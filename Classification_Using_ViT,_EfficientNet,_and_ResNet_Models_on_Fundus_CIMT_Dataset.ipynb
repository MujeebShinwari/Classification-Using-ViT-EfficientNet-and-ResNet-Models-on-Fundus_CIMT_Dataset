{
  "nbformat": 4,
  "nbformat_minor": 0,
  "metadata": {
    "colab": {
      "provenance": [],
      "authorship_tag": "ABX9TyMbCg/mP/Hf02Qn4iTVMs/+",
      "include_colab_link": true
    },
    "kernelspec": {
      "name": "python3",
      "display_name": "Python 3"
    },
    "language_info": {
      "name": "python"
    }
  },
  "cells": [
    {
      "cell_type": "markdown",
      "metadata": {
        "id": "view-in-github",
        "colab_type": "text"
      },
      "source": [
        "<a href=\"https://colab.research.google.com/github/MujeebShinwari/Classification-Using-ViT-EfficientNet-and-ResNet-Models-on-Fundus_CIMT_Dataset/blob/main/Classification_Using_ViT%2C_EfficientNet%2C_and_ResNet_Models_on_Fundus_CIMT_Dataset.ipynb\" target=\"_parent\"><img src=\"https://colab.research.google.com/assets/colab-badge.svg\" alt=\"Open In Colab\"/></a>"
      ]
    },
    {
      "cell_type": "code",
      "execution_count": null,
      "metadata": {
        "id": "x9F-i4z9u3Fn"
      },
      "outputs": [],
      "source": []
    }
  ]
}